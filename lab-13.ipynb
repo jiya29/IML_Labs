{
 "cells": [
  {
   "cell_type": "markdown",
   "id": "5448fb13",
   "metadata": {
    "execution": {
     "iopub.execute_input": "2023-11-05T06:52:08.309354Z",
     "iopub.status.busy": "2023-11-05T06:52:08.309053Z",
     "iopub.status.idle": "2023-11-05T06:52:08.361756Z",
     "shell.execute_reply": "2023-11-05T06:52:08.360845Z",
     "shell.execute_reply.started": "2023-11-05T06:52:08.309333Z"
    },
    "papermill": {
     "duration": 0.002069,
     "end_time": "2023-11-05T07:02:24.440606",
     "exception": false,
     "start_time": "2023-11-05T07:02:24.438537",
     "status": "completed"
    },
    "tags": []
   },
   "source": [
    "> # Lab 13_1 >> Write a Python program to implement K-Nearest Neighbour supervised machine learning algorithm for given dataset."
   ]
  },
  {
   "cell_type": "code",
   "execution_count": 1,
   "id": "40f7ce67",
   "metadata": {
    "execution": {
     "iopub.execute_input": "2023-11-05T07:02:24.445155Z",
     "iopub.status.busy": "2023-11-05T07:02:24.444868Z",
     "iopub.status.idle": "2023-11-05T07:02:25.970587Z",
     "shell.execute_reply": "2023-11-05T07:02:25.969698Z"
    },
    "papermill": {
     "duration": 1.532111,
     "end_time": "2023-11-05T07:02:25.974424",
     "exception": false,
     "start_time": "2023-11-05T07:02:24.442313",
     "status": "completed"
    },
    "tags": []
   },
   "outputs": [
    {
     "name": "stdout",
     "output_type": "stream",
     "text": [
      "Shape is : (400, 5) \n",
      "\n",
      "Info is\n",
      " <bound method DataFrame.info of       User ID  Gender  Age  EstimatedSalary  Purchased\n",
      "0    15624510    Male   19            19000          0\n",
      "1    15810944    Male   35            20000          0\n",
      "2    15668575  Female   26            43000          0\n",
      "3    15603246  Female   27            57000          0\n",
      "4    15804002    Male   19            76000          0\n",
      "..        ...     ...  ...              ...        ...\n",
      "395  15691863  Female   46            41000          1\n",
      "396  15706071    Male   51            23000          1\n",
      "397  15654296  Female   50            20000          1\n",
      "398  15755018    Male   36            33000          0\n",
      "399  15594041  Female   49            36000          1\n",
      "\n",
      "[400 rows x 5 columns]> \n",
      "\n",
      "Describing Data\n",
      "             User ID         Age  EstimatedSalary   Purchased\n",
      "count  4.000000e+02  400.000000       400.000000  400.000000\n",
      "mean   1.569154e+07   37.655000     69742.500000    0.357500\n",
      "std    7.165832e+04   10.482877     34096.960282    0.479864\n",
      "min    1.556669e+07   18.000000     15000.000000    0.000000\n",
      "25%    1.562676e+07   29.750000     43000.000000    0.000000\n",
      "50%    1.569434e+07   37.000000     70000.000000    0.000000\n",
      "75%    1.575036e+07   46.000000     88000.000000    1.000000\n",
      "max    1.581524e+07   60.000000    150000.000000    1.000000 \n",
      "\n",
      "Any null values\n",
      " User ID            0\n",
      "Gender             0\n",
      "Age                0\n",
      "EstimatedSalary    0\n",
      "Purchased          0\n",
      "dtype: int64 \n",
      "\n",
      "Accuracy :  82.0\n"
     ]
    }
   ],
   "source": [
    "#jiya Chudasama\n",
    "#216270307021\n",
    "\n",
    "import pandas as pd\n",
    "from sklearn.model_selection import train_test_split\n",
    "from sklearn.neighbors import KNeighborsClassifier\n",
    "\n",
    "df=pd.read_csv('/kaggle/input/social-network-ads/Social_Network_Ads.csv')\n",
    "df.head()\n",
    "print (\"Shape is :\",df.shape,\"\\n\") # Printing shape (rows,columns)\n",
    "print(\"Info is\\n\",df.info,\"\\n\")\n",
    "print(\"Describing Data\\n\",df.describe(),\"\\n\")\n",
    "print(\"Any null values\\n\",df.isnull().sum(),\"\\n\")\n",
    "X=df.iloc[:,1:4]\n",
    "X=pd.get_dummies(X)\n",
    "X=X.values\n",
    "Y=df.iloc[:,-1].values\n",
    "x_train,x_test,y_train,y_test=train_test_split(X,Y,train_size=0.75,test_size=0.25,random_state=42)\n",
    "model1=KNeighborsClassifier()\n",
    "model1.fit(x_train,y_train)\n",
    "print(\"Accuracy : \",model1.score(x_test,y_test) * 100) "
   ]
  },
  {
   "cell_type": "code",
   "execution_count": null,
   "id": "8ad4b6ea",
   "metadata": {
    "papermill": {
     "duration": 0.001246,
     "end_time": "2023-11-05T07:02:25.977232",
     "exception": false,
     "start_time": "2023-11-05T07:02:25.975986",
     "status": "completed"
    },
    "tags": []
   },
   "outputs": [],
   "source": []
  }
 ],
 "metadata": {
  "kernelspec": {
   "display_name": "Python 3",
   "language": "python",
   "name": "python3"
  },
  "language_info": {
   "codemirror_mode": {
    "name": "ipython",
    "version": 3
   },
   "file_extension": ".py",
   "mimetype": "text/x-python",
   "name": "python",
   "nbconvert_exporter": "python",
   "pygments_lexer": "ipython3",
   "version": "3.10.12"
  },
  "papermill": {
   "default_parameters": {},
   "duration": 4.443111,
   "end_time": "2023-11-05T07:02:26.397129",
   "environment_variables": {},
   "exception": null,
   "input_path": "__notebook__.ipynb",
   "output_path": "__notebook__.ipynb",
   "parameters": {},
   "start_time": "2023-11-05T07:02:21.954018",
   "version": "2.4.0"
  }
 },
 "nbformat": 4,
 "nbformat_minor": 5
}
