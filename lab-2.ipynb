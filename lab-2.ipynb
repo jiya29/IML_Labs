{
 "cells": [
  {
   "cell_type": "code",
   "execution_count": 1,
   "id": "5cf39680",
   "metadata": {
    "_cell_guid": "b1076dfc-b9ad-4769-8c92-a6c4dae69d19",
    "_uuid": "8f2839f25d086af736a60e9eeb907d3b93b6e0e5",
    "execution": {
     "iopub.execute_input": "2023-09-05T17:39:58.660430Z",
     "iopub.status.busy": "2023-09-05T17:39:58.660053Z",
     "iopub.status.idle": "2023-09-05T17:39:59.060784Z",
     "shell.execute_reply": "2023-09-05T17:39:59.059591Z"
    },
    "jupyter": {
     "source_hidden": true
    },
    "papermill": {
     "duration": 0.411426,
     "end_time": "2023-09-05T17:39:59.063620",
     "exception": false,
     "start_time": "2023-09-05T17:39:58.652194",
     "status": "completed"
    },
    "tags": []
   },
   "outputs": [],
   "source": [
    "# This Python 3 environment comes with many helpful analytics libraries installed\n",
    "# It is defined by the kaggle/python Docker image: https://github.com/kaggle/docker-python\n",
    "# For example, here's several helpful packages to load\n",
    "\n",
    "import numpy as np # linear algebra\n",
    "import pandas as pd # data processing, CSV file I/O (e.g. pd.read_csv)\n",
    "\n",
    "# Input data files are available in the read-only \"../input/\" directory\n",
    "# For example, running this (by clicking run or pressing Shift+Enter) will list all files under the input directory\n",
    "\n",
    "import os\n",
    "for dirname, _, filenames in os.walk('/kaggle/input'):\n",
    "    for filename in filenames:\n",
    "        print(os.path.join(dirname, filename))\n",
    "\n",
    "# You can write up to 20GB to the current directory (/kaggle/working/) that gets preserved as output when you create a version using \"Save & Run All\" \n",
    "# You can also write temporary files to /kaggle/temp/, but they won't be saved outside of the current session"
   ]
  },
  {
   "cell_type": "markdown",
   "id": "3670b3fe",
   "metadata": {
    "papermill": {
     "duration": 0.005446,
     "end_time": "2023-09-05T17:39:59.075252",
     "exception": false,
     "start_time": "2023-09-05T17:39:59.069806",
     "status": "completed"
    },
    "tags": []
   },
   "source": [
    "> # Lab 2_1 >> To convert a list of numeric values into a one-dimensional NumPy array"
   ]
  },
  {
   "cell_type": "code",
   "execution_count": 2,
   "id": "13a2a530",
   "metadata": {
    "execution": {
     "iopub.execute_input": "2023-09-05T17:39:59.088546Z",
     "iopub.status.busy": "2023-09-05T17:39:59.088026Z",
     "iopub.status.idle": "2023-09-05T17:39:59.095786Z",
     "shell.execute_reply": "2023-09-05T17:39:59.094880Z"
    },
    "papermill": {
     "duration": 0.018273,
     "end_time": "2023-09-05T17:39:59.099107",
     "exception": false,
     "start_time": "2023-09-05T17:39:59.080834",
     "status": "completed"
    },
    "tags": []
   },
   "outputs": [
    {
     "name": "stdout",
     "output_type": "stream",
     "text": [
      "Original Array List of one dimensional >>  [1, 2, 3, 4, 5]\n",
      "The Array List of the one dimensional >>  [1 2 3 4 5]\n"
     ]
    }
   ],
   "source": [
    "import numpy as np\n",
    "\n",
    "a=[1,2,3,4,5]\n",
    "print(\"Original Array List of one dimensional >> \",a)\n",
    "\n",
    "b=np.array(a)\n",
    "print(\"The Array List of the one dimensional >> \",b)\n"
   ]
  },
  {
   "cell_type": "markdown",
   "id": "bdec1565",
   "metadata": {
    "papermill": {
     "duration": 0.005421,
     "end_time": "2023-09-05T17:39:59.110623",
     "exception": false,
     "start_time": "2023-09-05T17:39:59.105202",
     "status": "completed"
    },
    "tags": []
   },
   "source": [
    "> #   Lab 2_2 >> to create a 3x3 matrix with values ranging from 2 to 10"
   ]
  },
  {
   "cell_type": "code",
   "execution_count": 3,
   "id": "37ac354f",
   "metadata": {
    "execution": {
     "iopub.execute_input": "2023-09-05T17:39:59.123994Z",
     "iopub.status.busy": "2023-09-05T17:39:59.123611Z",
     "iopub.status.idle": "2023-09-05T17:39:59.129614Z",
     "shell.execute_reply": "2023-09-05T17:39:59.128283Z"
    },
    "papermill": {
     "duration": 0.015343,
     "end_time": "2023-09-05T17:39:59.131938",
     "exception": false,
     "start_time": "2023-09-05T17:39:59.116595",
     "status": "completed"
    },
    "tags": []
   },
   "outputs": [
    {
     "name": "stdout",
     "output_type": "stream",
     "text": [
      " Array list using arange function [2 3 4 5 6 7 8 9] \n",
      "\n"
     ]
    }
   ],
   "source": [
    "import numpy as np\n",
    " \n",
    "\n",
    "print(\" Array list using arange function\",np.arange(2, 10), \"\\n\")"
   ]
  },
  {
   "cell_type": "markdown",
   "id": "5cd91625",
   "metadata": {
    "papermill": {
     "duration": 0.005728,
     "end_time": "2023-09-05T17:39:59.143620",
     "exception": false,
     "start_time": "2023-09-05T17:39:59.137892",
     "status": "completed"
    },
    "tags": []
   },
   "source": []
  },
  {
   "cell_type": "markdown",
   "id": "a0b95a6c",
   "metadata": {
    "papermill": {
     "duration": 0.005421,
     "end_time": "2023-09-05T17:39:59.154737",
     "exception": false,
     "start_time": "2023-09-05T17:39:59.149316",
     "status": "completed"
    },
    "tags": []
   },
   "source": [
    "> #  **Lab 2_3** >>  to append values at the end of an array"
   ]
  },
  {
   "cell_type": "code",
   "execution_count": 4,
   "id": "203a859f",
   "metadata": {
    "execution": {
     "iopub.execute_input": "2023-09-05T17:39:59.168221Z",
     "iopub.status.busy": "2023-09-05T17:39:59.167839Z",
     "iopub.status.idle": "2023-09-05T17:39:59.174770Z",
     "shell.execute_reply": "2023-09-05T17:39:59.173679Z"
    },
    "papermill": {
     "duration": 0.016685,
     "end_time": "2023-09-05T17:39:59.177411",
     "exception": false,
     "start_time": "2023-09-05T17:39:59.160726",
     "status": "completed"
    },
    "tags": []
   },
   "outputs": [
    {
     "name": "stdout",
     "output_type": "stream",
     "text": [
      "Without Appending at the end of the array >>  [1 3 5 7]\n",
      "With Appending at the end of the array >>  [1 3 5 7 9]\n"
     ]
    }
   ],
   "source": [
    "import numpy as np\n",
    "\n",
    "a=np.array([1,3,5,7])\n",
    "\n",
    "print(\"Without Appending at the end of the array >> \",a)\n",
    "\n",
    "b=np.append(a,9)\n",
    "\n",
    "print(\"With Appending at the end of the array >> \",b)"
   ]
  },
  {
   "cell_type": "markdown",
   "id": "44d4a8cd",
   "metadata": {
    "papermill": {
     "duration": 0.005582,
     "end_time": "2023-09-05T17:39:59.189136",
     "exception": false,
     "start_time": "2023-09-05T17:39:59.183554",
     "status": "completed"
    },
    "tags": []
   },
   "source": [
    "> # Lab 2_4  >> To create another shape from an array without changing its data"
   ]
  },
  {
   "cell_type": "code",
   "execution_count": 5,
   "id": "c6a72b52",
   "metadata": {
    "execution": {
     "iopub.execute_input": "2023-09-05T17:39:59.202362Z",
     "iopub.status.busy": "2023-09-05T17:39:59.202009Z",
     "iopub.status.idle": "2023-09-05T17:39:59.209023Z",
     "shell.execute_reply": "2023-09-05T17:39:59.208002Z"
    },
    "papermill": {
     "duration": 0.016682,
     "end_time": "2023-09-05T17:39:59.211553",
     "exception": false,
     "start_time": "2023-09-05T17:39:59.194871",
     "status": "completed"
    },
    "tags": []
   },
   "outputs": [
    {
     "name": "stdout",
     "output_type": "stream",
     "text": [
      " >>This is a 3*2 dimensional array \n",
      " \n",
      " [[ 2  4]\n",
      " [ 6  8]\n",
      " [10 12]]\n",
      "\n",
      "\n",
      " >>This is a 2*3 dimensional array \n",
      " \n",
      "  [[ 2  4  6]\n",
      " [ 8 10 12]]\n"
     ]
    }
   ],
   "source": [
    "a=np.array([2,4,6,8,10,12])\n",
    "b=np.reshape(a,(3,2))\n",
    "\n",
    "print(\" >>This is a 3*2 dimensional array \\n \\n\",b)\n",
    "print(\"\\n\")\n",
    "c=np.reshape(a,(2,3))\n",
    "\n",
    "print(\" >>This is a 2*3 dimensional array \\n \\n \",c)\n",
    "\n"
   ]
  },
  {
   "cell_type": "code",
   "execution_count": null,
   "id": "c680712b",
   "metadata": {
    "papermill": {
     "duration": 0.005756,
     "end_time": "2023-09-05T17:39:59.223255",
     "exception": false,
     "start_time": "2023-09-05T17:39:59.217499",
     "status": "completed"
    },
    "tags": []
   },
   "outputs": [],
   "source": []
  }
 ],
 "kernelspec": {
  "display_name": "Python 3",
  "language": "python",
  "name": "python3"
 },
 "language_info": {
  "codemirror_mode": {
   "name": "ipython",
   "version": 3
  },
  "file_extension": ".py",
  "mimetype": "text/x-python",
  "name": "python",
  "nbconvert_exporter": "python",
  "pygments_lexer": "ipython3",
  "version": "3.6.4"
 },
 "metadata": {
  "kernelspec": {
   "display_name": "Python 3",
   "language": "python",
   "name": "python3"
  },
  "language_info": {
   "codemirror_mode": {
    "name": "ipython",
    "version": 3
   },
   "file_extension": ".py",
   "mimetype": "text/x-python",
   "name": "python",
   "nbconvert_exporter": "python",
   "pygments_lexer": "ipython3",
   "version": "3.10.12"
  },
  "papermill": {
   "default_parameters": {},
   "duration": 4.529028,
   "end_time": "2023-09-05T17:39:59.649268",
   "environment_variables": {},
   "exception": null,
   "input_path": "__notebook__.ipynb",
   "output_path": "__notebook__.ipynb",
   "parameters": {},
   "start_time": "2023-09-05T17:39:55.120240",
   "version": "2.4.0"
  }
 },
 "nbformat": 4,
 "nbformat_minor": 5
}
